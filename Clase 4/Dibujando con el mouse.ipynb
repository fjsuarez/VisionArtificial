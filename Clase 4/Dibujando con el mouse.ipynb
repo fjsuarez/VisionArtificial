{
 "cells": [
  {
   "cell_type": "markdown",
   "metadata": {},
   "source": [
    "# Dibujo directo con mouse\n",
    "\n",
    "### NOTA: DE PREFERENCIA, ESTAS CELDAS DEBERIAN SER EJECUTADAS COMO UN SCRIPT .py PARA EVITAR CONFLICTOS."
   ]
  },
  {
   "cell_type": "markdown",
   "metadata": {},
   "source": [
    "## SCRIPT 1: Conectar una función para dibujo"
   ]
  },
  {
   "cell_type": "code",
   "execution_count": null,
   "metadata": {
    "collapsed": true
   },
   "outputs": [],
   "source": [
    "import cv2\n",
    "import numpy as np\n",
    "# Crea una función basada en un evento de CV2\n",
    "def draw_circle(event,x,y,flags,param):\n",
    "    if event == cv2.EVENT_LBUTTONDOWN:\n",
    "        cv2.circle(img,(x,y),100,(0,255,0),-1)\n",
    "\n",
    "# Crea una imagen negra\n",
    "img = np.zeros((512,512,3), np.uint8)\n",
    "# Nombra la ventana para poder usarla como referencia\n",
    "cv2.namedWindow(winname='my_drawing')\n",
    "# Conecta el evento a la función\n",
    "cv2.setMouseCallback('my_drawing',draw_circle)\n",
    "\n",
    "while True: # Corre indefinidamente hasta presionar Esc\n",
    "    # Muestra la ventana con la imagen\n",
    "    cv2.imshow('my_drawing',img)\n",
    "    \n",
    "    # Espera a que Esc sea presionado para salir del loop\n",
    "    if cv2.waitKey(20) & 0xFF == 27:\n",
    "        break\n",
    "\n",
    "# Cierra todas las ventas\n",
    "cv2.destroyAllWindows()\n"
   ]
  },
  {
   "cell_type": "markdown",
   "metadata": {},
   "source": [
    "## SCRIPT 2: Añadir funcionalidad con elección de eventos"
   ]
  },
  {
   "cell_type": "markdown",
   "metadata": {},
   "source": [
    "---------"
   ]
  },
  {
   "cell_type": "code",
   "execution_count": null,
   "metadata": {
    "collapsed": true
   },
   "outputs": [],
   "source": [
    "import cv2\n",
    "import numpy as np\n",
    "\n",
    "\n",
    "# Crea una función basada en un evento de CV2\n",
    "def draw_circle(event,x,y,flags,param):\n",
    "    # Click izquierdo\n",
    "    if event == cv2.EVENT_LBUTTONDOWN:\n",
    "        cv2.circle(img,(x,y),100,(0,255,0),-1)\n",
    "    # Click derecho\n",
    "    elif event == cv2.EVENT_RBUTTONDOWN:\n",
    "        cv2.circle(img,(x,y),100,(0,0,255),-1)\n",
    "        \n",
    "\n",
    "# Crea una imagen negra\n",
    "img = np.zeros((512,512,3), np.uint8)\n",
    "# Nombra la ventana para poder usarla como referencia\n",
    "cv2.namedWindow(winname='my_drawing')\n",
    "# Conecta el evento a la función\n",
    "cv2.setMouseCallback('my_drawing',draw_circle)\n",
    "\n",
    "while True: # Corre indefinidamente hasta presionar Esc\n",
    "    # Muestra la ventana con la imagen\n",
    "    cv2.imshow('my_drawing',img)\n",
    "    \n",
    "    # Espera a que Esc sea presionado para salir del loop\n",
    "    if cv2.waitKey(20) & 0xFF == 27:\n",
    "        break\n",
    "\n",
    "# Cierra todas las ventas\n",
    "cv2.destroyAllWindows()\n"
   ]
  },
  {
   "cell_type": "markdown",
   "metadata": {},
   "source": [
    "# SCRIPT 3: Arrastrando el mouse"
   ]
  },
  {
   "cell_type": "code",
   "execution_count": null,
   "metadata": {
    "collapsed": true
   },
   "outputs": [],
   "source": [
    "import cv2\n",
    "import numpy as np\n",
    "\n",
    "drawing = False # True si el mouse está presionado\n",
    "ix,iy = -1,-1\n",
    "\n",
    "# Función callback\n",
    "def draw_rectangle(event,x,y,flags,param):\n",
    "    global ix,iy,drawing,mode\n",
    "\n",
    "    if event == cv2.EVENT_LBUTTONDOWN:\n",
    "        # Cuando PRESIONAMOS el botón izquierdo la variable drawing es True\n",
    "        drawing = True\n",
    "        # Guardamos la posición inicial del cursor\n",
    "        ix,iy = x,y\n",
    "\n",
    "    elif event == cv2.EVENT_MOUSEMOVE:\n",
    "        # El mouse se está moviendo\n",
    "        if drawing == True:\n",
    "            # Si drawing es True, tenemos presionado el botón izquierdo\n",
    "            # Dibujamos un rectángulo desde la posición inicial a la posición actual x,y\n",
    "            cv2.rectangle(img,(ix,iy),(x,y),(0,255,0),-1)\n",
    "           \n",
    "\n",
    "    elif event == cv2.EVENT_LBUTTONUP:\n",
    "        # Una vez SOLTAMOS el boton, drawing es False\n",
    "        drawing = False\n",
    "        # Completamos el rectángulo\n",
    "        cv2.rectangle(img,(ix,iy),(x,y),(0,255,0),-1)\n",
    "        \n",
    "        \n",
    "\n",
    "# Crea una imagen negra\n",
    "img = np.zeros((512,512,3), np.uint8)\n",
    "# Nombra la ventana para poder usarla como referencia\n",
    "cv2.namedWindow(winname='my_drawing')\n",
    "# Conecta el evento a la función\n",
    "cv2.setMouseCallback('my_drawing',draw_circle)\n",
    "\n",
    "while True: # Corre indefinidamente hasta presionar Esc\n",
    "    # Muestra la ventana con la imagen\n",
    "    cv2.imshow('my_drawing',img)\n",
    "    \n",
    "    # Espera a que Esc sea presionado para salir del loop\n",
    "    if cv2.waitKey(20) & 0xFF == 27:\n",
    "        break\n",
    "\n",
    "# Cierra todas las ventas\n",
    "cv2.destroyAllWindows()"
   ]
  }
 ],
 "metadata": {
  "kernelspec": {
   "display_name": "Python 3",
   "language": "python",
   "name": "python3"
  },
  "language_info": {
   "codemirror_mode": {
    "name": "ipython",
    "version": 3
   },
   "file_extension": ".py",
   "mimetype": "text/x-python",
   "name": "python",
   "nbconvert_exporter": "python",
   "pygments_lexer": "ipython3",
   "version": "3.6.6"
  }
 },
 "nbformat": 4,
 "nbformat_minor": 2
}
